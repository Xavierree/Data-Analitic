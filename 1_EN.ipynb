{
  "cells": [
    {
      "cell_type": "markdown",
      "metadata": {
        "id": "view-in-github",
        "colab_type": "text"
      },
      "source": [
        "<a href=\"https://colab.research.google.com/github/Xavierree/Data-Analitic/blob/Efficient_net/1_EN.ipynb\" target=\"_parent\"><img src=\"https://colab.research.google.com/assets/colab-badge.svg\" alt=\"Open In Colab\"/></a>"
      ]
    },
    {
      "cell_type": "code",
      "execution_count": null,
      "id": "LTtnkjwB9Zsv",
      "metadata": {
        "colab": {
          "base_uri": "https://localhost:8080/"
        },
        "id": "LTtnkjwB9Zsv",
        "outputId": "acba8535-07d7-43a9-e51b-77c13690a19e"
      },
      "outputs": [
        {
          "output_type": "stream",
          "name": "stdout",
          "text": [
            "Requirement already satisfied: torch in /usr/local/lib/python3.12/dist-packages (2.8.0+cu126)\n",
            "Requirement already satisfied: torchvision in /usr/local/lib/python3.12/dist-packages (0.23.0+cu126)\n",
            "Requirement already satisfied: opencv-python-headless in /usr/local/lib/python3.12/dist-packages (4.11.0.86)\n",
            "Requirement already satisfied: numpy<2.0 in /usr/local/lib/python3.12/dist-packages (1.26.4)\n",
            "Requirement already satisfied: pandas in /usr/local/lib/python3.12/dist-packages (2.2.2)\n",
            "Requirement already satisfied: matplotlib in /usr/local/lib/python3.12/dist-packages (3.10.0)\n",
            "Requirement already satisfied: albumentations in /usr/local/lib/python3.12/dist-packages (2.0.8)\n",
            "Requirement already satisfied: tqdm in /usr/local/lib/python3.12/dist-packages (4.67.1)\n",
            "Requirement already satisfied: scikit-learn in /usr/local/lib/python3.12/dist-packages (1.6.1)\n",
            "Requirement already satisfied: torchmetrics in /usr/local/lib/python3.12/dist-packages (1.8.2)\n",
            "Requirement already satisfied: filelock in /usr/local/lib/python3.12/dist-packages (from torch) (3.19.1)\n",
            "Requirement already satisfied: typing-extensions>=4.10.0 in /usr/local/lib/python3.12/dist-packages (from torch) (4.15.0)\n",
            "Requirement already satisfied: setuptools in /usr/local/lib/python3.12/dist-packages (from torch) (75.2.0)\n",
            "Requirement already satisfied: sympy>=1.13.3 in /usr/local/lib/python3.12/dist-packages (from torch) (1.13.3)\n",
            "Requirement already satisfied: networkx in /usr/local/lib/python3.12/dist-packages (from torch) (3.5)\n",
            "Requirement already satisfied: jinja2 in /usr/local/lib/python3.12/dist-packages (from torch) (3.1.6)\n",
            "Requirement already satisfied: fsspec in /usr/local/lib/python3.12/dist-packages (from torch) (2025.3.0)\n",
            "Requirement already satisfied: nvidia-cuda-nvrtc-cu12==12.6.77 in /usr/local/lib/python3.12/dist-packages (from torch) (12.6.77)\n",
            "Requirement already satisfied: nvidia-cuda-runtime-cu12==12.6.77 in /usr/local/lib/python3.12/dist-packages (from torch) (12.6.77)\n",
            "Requirement already satisfied: nvidia-cuda-cupti-cu12==12.6.80 in /usr/local/lib/python3.12/dist-packages (from torch) (12.6.80)\n",
            "Requirement already satisfied: nvidia-cudnn-cu12==9.10.2.21 in /usr/local/lib/python3.12/dist-packages (from torch) (9.10.2.21)\n",
            "Requirement already satisfied: nvidia-cublas-cu12==12.6.4.1 in /usr/local/lib/python3.12/dist-packages (from torch) (12.6.4.1)\n",
            "Requirement already satisfied: nvidia-cufft-cu12==11.3.0.4 in /usr/local/lib/python3.12/dist-packages (from torch) (11.3.0.4)\n",
            "Requirement already satisfied: nvidia-curand-cu12==10.3.7.77 in /usr/local/lib/python3.12/dist-packages (from torch) (10.3.7.77)\n",
            "Requirement already satisfied: nvidia-cusolver-cu12==11.7.1.2 in /usr/local/lib/python3.12/dist-packages (from torch) (11.7.1.2)\n",
            "Requirement already satisfied: nvidia-cusparse-cu12==12.5.4.2 in /usr/local/lib/python3.12/dist-packages (from torch) (12.5.4.2)\n",
            "Requirement already satisfied: nvidia-cusparselt-cu12==0.7.1 in /usr/local/lib/python3.12/dist-packages (from torch) (0.7.1)\n",
            "Requirement already satisfied: nvidia-nccl-cu12==2.27.3 in /usr/local/lib/python3.12/dist-packages (from torch) (2.27.3)\n",
            "Requirement already satisfied: nvidia-nvtx-cu12==12.6.77 in /usr/local/lib/python3.12/dist-packages (from torch) (12.6.77)\n",
            "Requirement already satisfied: nvidia-nvjitlink-cu12==12.6.85 in /usr/local/lib/python3.12/dist-packages (from torch) (12.6.85)\n",
            "Requirement already satisfied: nvidia-cufile-cu12==1.11.1.6 in /usr/local/lib/python3.12/dist-packages (from torch) (1.11.1.6)\n",
            "Requirement already satisfied: triton==3.4.0 in /usr/local/lib/python3.12/dist-packages (from torch) (3.4.0)\n",
            "Requirement already satisfied: pillow!=8.3.*,>=5.3.0 in /usr/local/lib/python3.12/dist-packages (from torchvision) (11.3.0)\n",
            "Requirement already satisfied: python-dateutil>=2.8.2 in /usr/local/lib/python3.12/dist-packages (from pandas) (2.9.0.post0)\n",
            "Requirement already satisfied: pytz>=2020.1 in /usr/local/lib/python3.12/dist-packages (from pandas) (2025.2)\n",
            "Requirement already satisfied: tzdata>=2022.7 in /usr/local/lib/python3.12/dist-packages (from pandas) (2025.2)\n",
            "Requirement already satisfied: contourpy>=1.0.1 in /usr/local/lib/python3.12/dist-packages (from matplotlib) (1.3.3)\n",
            "Requirement already satisfied: cycler>=0.10 in /usr/local/lib/python3.12/dist-packages (from matplotlib) (0.12.1)\n",
            "Requirement already satisfied: fonttools>=4.22.0 in /usr/local/lib/python3.12/dist-packages (from matplotlib) (4.60.1)\n",
            "Requirement already satisfied: kiwisolver>=1.3.1 in /usr/local/lib/python3.12/dist-packages (from matplotlib) (1.4.9)\n",
            "Requirement already satisfied: packaging>=20.0 in /usr/local/lib/python3.12/dist-packages (from matplotlib) (25.0)\n",
            "Requirement already satisfied: pyparsing>=2.3.1 in /usr/local/lib/python3.12/dist-packages (from matplotlib) (3.2.5)\n",
            "Requirement already satisfied: scipy>=1.10.0 in /usr/local/lib/python3.12/dist-packages (from albumentations) (1.16.2)\n",
            "Requirement already satisfied: PyYAML in /usr/local/lib/python3.12/dist-packages (from albumentations) (6.0.3)\n",
            "Requirement already satisfied: pydantic>=2.9.2 in /usr/local/lib/python3.12/dist-packages (from albumentations) (2.11.9)\n",
            "Requirement already satisfied: albucore==0.0.24 in /usr/local/lib/python3.12/dist-packages (from albumentations) (0.0.24)\n",
            "Requirement already satisfied: stringzilla>=3.10.4 in /usr/local/lib/python3.12/dist-packages (from albucore==0.0.24->albumentations) (4.0.15)\n",
            "Requirement already satisfied: simsimd>=5.9.2 in /usr/local/lib/python3.12/dist-packages (from albucore==0.0.24->albumentations) (6.5.3)\n",
            "Requirement already satisfied: joblib>=1.2.0 in /usr/local/lib/python3.12/dist-packages (from scikit-learn) (1.5.2)\n",
            "Requirement already satisfied: threadpoolctl>=3.1.0 in /usr/local/lib/python3.12/dist-packages (from scikit-learn) (3.6.0)\n",
            "Requirement already satisfied: lightning-utilities>=0.8.0 in /usr/local/lib/python3.12/dist-packages (from torchmetrics) (0.15.2)\n",
            "Requirement already satisfied: annotated-types>=0.6.0 in /usr/local/lib/python3.12/dist-packages (from pydantic>=2.9.2->albumentations) (0.7.0)\n",
            "Requirement already satisfied: pydantic-core==2.33.2 in /usr/local/lib/python3.12/dist-packages (from pydantic>=2.9.2->albumentations) (2.33.2)\n",
            "Requirement already satisfied: typing-inspection>=0.4.0 in /usr/local/lib/python3.12/dist-packages (from pydantic>=2.9.2->albumentations) (0.4.2)\n",
            "Requirement already satisfied: six>=1.5 in /usr/local/lib/python3.12/dist-packages (from python-dateutil>=2.8.2->pandas) (1.17.0)\n",
            "Requirement already satisfied: mpmath<1.4,>=1.1.0 in /usr/local/lib/python3.12/dist-packages (from sympy>=1.13.3->torch) (1.3.0)\n",
            "Requirement already satisfied: MarkupSafe>=2.0 in /usr/local/lib/python3.12/dist-packages (from jinja2->torch) (3.0.3)\n"
          ]
        }
      ],
      "source": [
        "!pip install torch torchvision opencv-python-headless \"numpy<2.0\" pandas matplotlib albumentations tqdm scikit-learn torchmetrics"
      ]
    },
    {
      "cell_type": "code",
      "execution_count": null,
      "id": "c34c18cb",
      "metadata": {
        "id": "c34c18cb"
      },
      "outputs": [],
      "source": [
        "# Instalasi dependensi dari requirements.txt\n",
        "\n",
        "# Impor pustaka dasar yang akan digunakan di beberapa sel\n",
        "import os\n",
        "import torch\n",
        "import shutil\n",
        "import glob\n",
        "import cv2\n",
        "import numpy as np\n",
        "import pandas as pd\n",
        "import matplotlib.pyplot as plt\n",
        "import torchvision\n",
        "import albumentations as A\n",
        "from xml.etree import ElementTree as ET\n",
        "from tqdm import tqdm\n",
        "from sklearn.model_selection import train_test_split\n",
        "from torch.utils.data import Dataset, DataLoader\n",
        "from albumentations.pytorch import ToTensorV2\n",
        "from torchvision.models.detection.faster_rcnn import FastRCNNPredictor\n",
        "from torchmetrics.detection.mean_ap import MeanAveragePrecision\n",
        "from sklearn.metrics import precision_recall_fscore_support"
      ]
    },
    {
      "cell_type": "code",
      "execution_count": null,
      "id": "4d338e19",
      "metadata": {
        "colab": {
          "base_uri": "https://localhost:8080/"
        },
        "id": "4d338e19",
        "outputId": "89fcc660-81b9-40e2-cdcf-f53b7ed23f62"
      },
      "outputs": [
        {
          "output_type": "stream",
          "name": "stdout",
          "text": [
            "📥 Mengunduh dataset dari Google Drive (ID: 1sky3FSRpfCbsBWQ_EtyTMZt1DipOsLm1)...\n"
          ]
        },
        {
          "output_type": "stream",
          "name": "stderr",
          "text": [
            "Downloading...\n",
            "From (original): https://drive.google.com/uc?id=1sky3FSRpfCbsBWQ_EtyTMZt1DipOsLm1\n",
            "From (redirected): https://drive.google.com/uc?id=1sky3FSRpfCbsBWQ_EtyTMZt1DipOsLm1&confirm=t&uuid=215a401a-20a8-45ca-bac7-bfe048d3b9be\n",
            "To: /content/dataset.zip\n",
            "100%|██████████| 57.1M/57.1M [00:00<00:00, 106MB/s]\n"
          ]
        },
        {
          "output_type": "stream",
          "name": "stdout",
          "text": [
            "\n",
            "✨ Unduhan selesai. Mengekstrak file 'dataset.zip'...\n",
            "✅ Ekstraksi selesai.\n",
            "\n",
            "📂 Mengecek direktori sumber di: Gabungan\n",
            "👍 Direktori 'Image' dan 'Annotation' ditemukan. Memulai proses...\n",
            "\n",
            "⚙️ Memproses data latih...\n",
            "⚠️ Peringatan: Anotasi 'immature-107_jpg.rf.e6c1dbeaacc81094cc0c733ccf439233(1).xml' tidak ditemukan, gambar 'immature-107_jpg.rf.e6c1dbeaacc81094cc0c733ccf439233(1).jpg' dilewati.\n",
            "\n",
            "⚙️ Memproses data validasi...\n",
            "\n",
            "--- Ringkasan ---\n",
            "Total gambar latih: 1295\n",
            "Total gambar validasi: 325\n",
            "\n",
            "✅ Pemisahan data selesai. Data disimpan di folder: 'data_split'\n"
          ]
        }
      ],
      "source": [
        "# --- 1. Instalasi dan Impor Library Awal ---\n",
        "!pip install -q gdown\n",
        "\n",
        "import os\n",
        "import shutil\n",
        "import zipfile\n",
        "import gdown\n",
        "from sklearn.model_selection import train_test_split\n",
        "\n",
        "# --- 2. Konfigurasi Download (Bagian yang Perlu Diedit) ---\n",
        "FILE_ID = \"1sky3FSRpfCbsBWQ_EtyTMZt1DipOsLm1\"\n",
        "EXTRACTED_FOLDER_NAME = \"Gabungan\"\n",
        "\n",
        "# --- 3. Proses Download dan Ekstrak ---\n",
        "ZIP_FILE = \"dataset.zip\"\n",
        "print(f\"📥 Mengunduh dataset dari Google Drive (ID: {FILE_ID})...\")\n",
        "gdown.download(id=FILE_ID, output=ZIP_FILE, quiet=False)\n",
        "\n",
        "print(f\"\\n✨ Unduhan selesai. Mengekstrak file '{ZIP_FILE}'...\")\n",
        "with zipfile.ZipFile(ZIP_FILE, 'r') as zip_ref:\n",
        "    zip_ref.extractall(\".\")\n",
        "print(\"✅ Ekstraksi selesai.\")\n",
        "\n",
        "# --- 4. Konfigurasi Path dan Pemisahan Data ---\n",
        "DATASET_DIR = EXTRACTED_FOLDER_NAME\n",
        "IMAGE_DIR_NAME = \"Image\"\n",
        "ANNOT_DIR_NAME = \"Annotation\"\n",
        "OUTPUT_DIR = \"data_split\"\n",
        "TRAIN_RATIO = 0.8\n",
        "\n",
        "IMAGE_DIR = os.path.join(DATASET_DIR, IMAGE_DIR_NAME)\n",
        "ANNOT_DIR = os.path.join(DATASET_DIR, ANNOT_DIR_NAME)\n",
        "\n",
        "print(f\"\\n📂 Mengecek direktori sumber di: {DATASET_DIR}\")\n",
        "\n",
        "if os.path.exists(IMAGE_DIR) and os.path.exists(ANNOT_DIR):\n",
        "    print(\"👍 Direktori 'Image' dan 'Annotation' ditemukan. Memulai proses...\")\n",
        "\n",
        "    TRAIN_IMG_DIR = os.path.join(OUTPUT_DIR, \"train\", \"Image\")\n",
        "    TRAIN_ANNOT_DIR = os.path.join(OUTPUT_DIR, \"train\", \"Annotation\")\n",
        "    VAL_IMG_DIR = os.path.join(OUTPUT_DIR, \"val\", \"Image\")\n",
        "    VAL_ANNOT_DIR = os.path.join(OUTPUT_DIR, \"val\", \"Annotation\")\n",
        "\n",
        "    os.makedirs(TRAIN_IMG_DIR, exist_ok=True)\n",
        "    os.makedirs(TRAIN_ANNOT_DIR, exist_ok=True)\n",
        "    os.makedirs(VAL_IMG_DIR, exist_ok=True)\n",
        "    os.makedirs(VAL_ANNOT_DIR, exist_ok=True)\n",
        "\n",
        "    image_filenames = [f for f in os.listdir(IMAGE_DIR) if f.endswith((\".jpg\", \".png\", \".jpeg\"))]\n",
        "    train_images, val_images = train_test_split(image_filenames, train_size=TRAIN_RATIO, random_state=42)\n",
        "\n",
        "    def copy_files(file_list, src_img, src_annot, dst_img, dst_annot):\n",
        "        copied_count = 0\n",
        "        for filename in file_list:\n",
        "            annot_filename = os.path.splitext(filename)[0] + \".xml\"\n",
        "            src_annot_path = os.path.join(src_annot, annot_filename)\n",
        "\n",
        "            if os.path.exists(src_annot_path):\n",
        "                shutil.copy(os.path.join(src_img, filename), os.path.join(dst_img, filename))\n",
        "                shutil.copy(src_annot_path, os.path.join(dst_annot, annot_filename))\n",
        "                copied_count += 1\n",
        "            else:\n",
        "                print(f\"⚠️ Peringatan: Anotasi '{annot_filename}' tidak ditemukan, gambar '{filename}' dilewati.\")\n",
        "        return copied_count\n",
        "\n",
        "    print(\"\\n⚙️ Memproses data latih...\")\n",
        "    num_train = copy_files(train_images, IMAGE_DIR, ANNOT_DIR, TRAIN_IMG_DIR, TRAIN_ANNOT_DIR)\n",
        "\n",
        "    print(\"\\n⚙️ Memproses data validasi...\")\n",
        "    num_val = copy_files(val_images, IMAGE_DIR, ANNOT_DIR, VAL_IMG_DIR, VAL_ANNOT_DIR)\n",
        "\n",
        "    print(\"\\n--- Ringkasan ---\")\n",
        "    print(f\"Total gambar latih: {num_train}\")\n",
        "    print(f\"Total gambar validasi: {num_val}\")\n",
        "    print(f\"\\n✅ Pemisahan data selesai. Data disimpan di folder: '{OUTPUT_DIR}'\")\n",
        "else:\n",
        "    print(f\"❌ Direktori data sumber tidak ditemukan di '{IMAGE_DIR}' atau '{ANNOT_DIR}'.\")"
      ]
    },
    {
      "cell_type": "code",
      "execution_count": null,
      "id": "pqU0whjJtc_L",
      "metadata": {
        "colab": {
          "base_uri": "https://localhost:8080/"
        },
        "id": "pqU0whjJtc_L",
        "outputId": "c813b6f2-2c68-4a6e-d8d9-6d472d76be35"
      },
      "outputs": [
        {
          "output_type": "stream",
          "name": "stdout",
          "text": [
            "Konfigurasi dimuat.\n",
            "--------------------\n",
            "Device yang digunakan: cuda\n",
            "Jumlah Epoch: 20\n",
            "Ukuran Batch: 8\n",
            "Jumlah Kelas: 4 -> ['__background__', 'Immature', 'Mature', 'Normal']\n",
            "Output akan disimpan di: outputs\n",
            "Path data latih: data_split/train/Image\n",
            "Path data validasi: data_split/val/Image\n"
          ]
        }
      ],
      "source": [
        "# --- Impor Library untuk Konfigurasi ---\n",
        "import torch\n",
        "import os\n",
        "\n",
        "# --- Konfigurasi Parameter Training ---\n",
        "BATCH_SIZE = 8\n",
        "RESIZE_TO = 640\n",
        "NUM_EPOCHS = 20\n",
        "# Untuk Colab, disarankan menggunakan 2 workers untuk menghindari potensi error\n",
        "NUM_WORKERS = 2\n",
        "DEVICE = torch.device('cuda') if torch.cuda.is_available() else torch.device('cpu')\n",
        "\n",
        "# --- Konfigurasi Path Data ---\n",
        "# Path ini sudah benar menunjuk ke folder 'data_split' yang dibuat oleh sel sebelumnya.\n",
        "TRAIN_IMG = 'data_split/train/Image'\n",
        "TRAIN_ANNOT = 'data_split/train/Annotation'\n",
        "VALID_IMG = 'data_split/val/Image'\n",
        "VALID_ANNOT = 'data_split/val/Annotation'\n",
        "\n",
        "# --- Konfigurasi Kelas dan Direktori Output ---\n",
        "CLASSES = ['__background__', 'Immature', 'Mature', 'Normal']\n",
        "NUM_CLASSES = len(CLASSES)\n",
        "OUT_DIR = 'outputs'\n",
        "\n",
        "# Membuat direktori output jika belum ada\n",
        "os.makedirs(OUT_DIR, exist_ok=True)\n",
        "\n",
        "# --- Verifikasi Konfigurasi ---\n",
        "print(f\"Konfigurasi dimuat.\")\n",
        "print(\"--------------------\")\n",
        "print(f\"Device yang digunakan: {DEVICE}\")\n",
        "print(f\"Jumlah Epoch: {NUM_EPOCHS}\")\n",
        "print(f\"Ukuran Batch: {BATCH_SIZE}\")\n",
        "print(f\"Jumlah Kelas: {NUM_CLASSES} -> {CLASSES}\")\n",
        "print(f\"Output akan disimpan di: {OUT_DIR}\")\n",
        "print(f\"Path data latih: {TRAIN_IMG}\")\n",
        "print(f\"Path data validasi: {VALID_IMG}\")"
      ]
    },
    {
      "cell_type": "code",
      "execution_count": null,
      "id": "5e1d85b9",
      "metadata": {
        "colab": {
          "base_uri": "https://localhost:8080/"
        },
        "id": "5e1d85b9",
        "outputId": "18bbb228-e14b-4249-c508-22fe4f1ccd08"
      },
      "outputs": [
        {
          "output_type": "stream",
          "name": "stdout",
          "text": [
            "✅ Fungsi utilitas ('custom_utils.py') berhasil didefinisikan.\n"
          ]
        }
      ],
      "source": [
        "# --- Cell 4: custom_utils.py ---\n",
        "\n",
        "class Averager:\n",
        "    def __init__(self): self.reset()\n",
        "    def send(self, value): self.current_total += value; self.iterations += 1\n",
        "    @property\n",
        "    def value(self): return self.current_total / self.iterations if self.iterations > 0 else 0\n",
        "    def reset(self): self.current_total = 0.0; self.iterations = 0.0\n",
        "\n",
        "class SaveBestModel:\n",
        "    def __init__(self, best_valid_map=0.0): self.best_valid_map = best_valid_map\n",
        "    def __call__(self, model, current_valid_map, epoch, out_dir):\n",
        "        if current_valid_map > self.best_valid_map:\n",
        "            self.best_valid_map = current_valid_map\n",
        "            file_name = f\"{out_dir}/best_model_mAP_{current_valid_map:.4f}.pth\"\n",
        "            print(f\"\\nValid mAP meningkat. Menyimpan model ke {file_name}\")\n",
        "            torch.save({'epoch': epoch + 1, 'model_state_dict': model.state_dict()}, file_name)\n",
        "\n",
        "def get_train_transform():\n",
        "    return A.Compose([\n",
        "        A.HorizontalFlip(p=0.5), A.RandomBrightnessContrast(p=0.3), A.Blur(blur_limit=3, p=0.1),\n",
        "        ToTensorV2(p=1.0)], bbox_params={'format': 'pascal_voc', 'label_fields': ['labels']})\n",
        "\n",
        "def get_valid_transform():\n",
        "    return A.Compose([ToTensorV2(p=1.0)], bbox_params={'format': 'pascal_voc', 'label_fields': ['labels']})\n",
        "\n",
        "def save_loss_plot(out_dir, train_loss_list):\n",
        "    plt.figure(figsize=(10, 7)); plt.plot(train_loss_list, label='Train Loss')\n",
        "    plt.xlabel('Epochs'); plt.ylabel('Loss'); plt.title(\"Training Loss Plot\"); plt.legend()\n",
        "    plt.savefig(f\"{out_dir}/train_loss.png\"); plt.close()\n",
        "\n",
        "def save_mAP(out_dir, map_50_list, map_95_list):\n",
        "    plt.figure(figsize=(10, 7)); plt.plot(map_50_list, label='mAP@0.5', color='orange')\n",
        "    plt.plot(map_95_list, label='mAP@0.5:0.95', color='red'); plt.xlabel('Epochs')\n",
        "    plt.ylabel('mAP'); plt.title('mAP Over Epochs'); plt.legend()\n",
        "    plt.savefig(f\"{out_dir}/map_plot.png\"); plt.close()\n",
        "\n",
        "print(\"✅ Fungsi utilitas ('custom_utils.py') berhasil didefinisikan.\")"
      ]
    },
    {
      "cell_type": "code",
      "execution_count": null,
      "id": "1c189add",
      "metadata": {
        "colab": {
          "base_uri": "https://localhost:8080/"
        },
        "id": "1c189add",
        "outputId": "c1bee887-e67e-44a1-e618-8b7cf541cc5a"
      },
      "outputs": [
        {
          "output_type": "stream",
          "name": "stdout",
          "text": [
            "✅ Kelas Dataset ('datasets.py') berhasil didefinisikan.\n"
          ]
        }
      ],
      "source": [
        "# --- Cell 5: datasets.py ---\n",
        "\n",
        "class CustomDataset(Dataset):\n",
        "    def __init__(self, img_path, annot_path, width, height, classes, transforms=None):\n",
        "        self.img_path, self.annot_path = img_path, annot_path\n",
        "        self.width, self.height = width, height\n",
        "        self.classes, self.transforms = classes, transforms\n",
        "        self.all_images = sorted(glob.glob(os.path.join(img_path, \"*.jpg\")))\n",
        "    def __len__(self): return len(self.all_images)\n",
        "    def __getitem__(self, idx):\n",
        "        image_name = os.path.basename(self.all_images[idx])\n",
        "        annot_path = os.path.join(self.annot_path, image_name.replace('.jpg', '.xml'))\n",
        "        image = cv2.imread(self.all_images[idx])\n",
        "        image = cv2.cvtColor(image, cv2.COLOR_BGR2RGB).astype(np.float32) / 255.0\n",
        "\n",
        "        tree = ET.parse(annot_path)\n",
        "        root = tree.getroot()\n",
        "        boxes, labels = [], []\n",
        "        for obj in root.findall(\"object\"):\n",
        "            label = self.classes.index(obj.find(\"name\").text)\n",
        "            bndbox = obj.find(\"bndbox\")\n",
        "            xmin, ymin, xmax, ymax = map(int, [bndbox.find(tag).text for tag in [\"xmin\", \"ymin\", \"xmax\", \"ymax\"]])\n",
        "            boxes.append([xmin, ymin, xmax, ymax])\n",
        "            labels.append(label)\n",
        "\n",
        "        # Buat dictionary target\n",
        "        target = {}\n",
        "\n",
        "        # Lakukan transformasi jika ada\n",
        "        if self.transforms:\n",
        "            # Konversi ke NumPy array SEBELUM augmentasi (INI PERBAIKANNYA)\n",
        "            sample = self.transforms(\n",
        "                image=image,\n",
        "                bboxes=boxes,\n",
        "                labels=labels\n",
        "            )\n",
        "            image = sample['image']\n",
        "            # Perbarui boxes dan labels DARI HASIL augmentasi (INI PERBAIKANNYA)\n",
        "            target['boxes'] = torch.tensor(sample['bboxes'], dtype=torch.float32) if len(sample['bboxes']) > 0 else torch.empty((0, 4))\n",
        "            target['labels'] = torch.tensor(sample['labels'], dtype=torch.int64) if len(sample['labels']) > 0 else torch.empty(0, dtype=torch.int64)\n",
        "        else:\n",
        "            # Jika tidak ada transformasi, konversi langsung ke tensor\n",
        "            target['boxes'] = torch.tensor(boxes, dtype=torch.float32)\n",
        "            target['labels'] = torch.tensor(labels, dtype=torch.int64)\n",
        "\n",
        "        return image, target\n",
        "\n",
        "def collate_fn(batch): return tuple(zip(*batch))\n",
        "\n",
        "print(\"✅ Kelas Dataset ('datasets.py') berhasil didefinisikan.\")"
      ]
    },
    {
      "cell_type": "code",
      "execution_count": null,
      "id": "869dcb3a",
      "metadata": {
        "colab": {
          "base_uri": "https://localhost:8080/"
        },
        "id": "869dcb3a",
        "outputId": "c25cb084-bb15-4220-d0c4-5d04f5c5ea43"
      },
      "outputs": [
        {
          "output_type": "stream",
          "name": "stdout",
          "text": [
            "Jumlah data di validation dataset: 325\n",
            "✅ Berhasil membuat validation loader. Seharusnya masalah path sudah benar.\n"
          ]
        },
        {
          "output_type": "stream",
          "name": "stderr",
          "text": [
            "/usr/local/lib/python3.12/dist-packages/albumentations/core/composition.py:331: UserWarning: Got processor for bboxes, but no transform to process it.\n",
            "  self._set_keys()\n"
          ]
        }
      ],
      "source": [
        "# Jalankan ini di sel baru untuk diagnosis\n",
        "try:\n",
        "    debug_valid_dataset = CustomDataset(VALID_IMG, VALID_ANNOT, RESIZE_TO, RESIZE_TO, CLASSES, get_valid_transform())\n",
        "    debug_valid_loader = DataLoader(debug_valid_dataset, batch_size=BATCH_SIZE, collate_fn=collate_fn)\n",
        "\n",
        "    print(f\"Jumlah data di validation dataset: {len(debug_valid_dataset)}\")\n",
        "    if len(debug_valid_dataset) > 0:\n",
        "        print(\"✅ Berhasil membuat validation loader. Seharusnya masalah path sudah benar.\")\n",
        "    else:\n",
        "        print(\"🔴 Peringatan: Validation dataset kosong! Periksa isi folder validasi Anda.\")\n",
        "except Exception as e:\n",
        "    print(f\"❌ Terjadi error saat membuat validation loader: {e}\")"
      ]
    },
    {
      "cell_type": "code",
      "execution_count": null,
      "id": "ca3342bc",
      "metadata": {
        "id": "ca3342bc"
      },
      "outputs": [],
      "source": [
        "# --- Cell 6: model.py (Versi Final yang Benar) ---\n",
        "\n",
        "import torch\n",
        "import torchvision\n",
        "from collections import OrderedDict\n",
        "from torchvision.models.detection import FasterRCNN\n",
        "from torchvision.models.detection.rpn import AnchorGenerator\n",
        "from torchvision.models.feature_extraction import create_feature_extractor\n",
        "from torchvision.ops.feature_pyramid_network import FeaturePyramidNetwork\n",
        "\n",
        "def create_model(num_classes, variant='efficientnet_b0', min_size=640, max_size=640):\n",
        "\n",
        "    backbone_options = {\n",
        "        'efficientnet_b0': (torchvision.models.efficientnet_b0, [40, 80, 112, 192]),\n",
        "        'efficientnet_b1': (torchvision.models.efficientnet_b1, [40, 80, 112, 192]),\n",
        "        'efficientnet_b2': (torchvision.models.efficientnet_b2, [48, 88, 120, 208]),\n",
        "        'efficientnet_b3': (torchvision.models.efficientnet_b3, [48, 96, 136, 232]),\n",
        "        'efficientnet_b4': (torchvision.models.efficientnet_b4, [56, 112, 160, 272]),\n",
        "    }\n",
        "\n",
        "    if variant not in backbone_options:\n",
        "        raise ValueError(f\"Varian '{variant}' tidak tersedia. Pilih dari: {list(backbone_options.keys())}\")\n",
        "\n",
        "    model_function, in_channels_list = backbone_options[variant]\n",
        "    backbone_model = model_function(weights='DEFAULT')\n",
        "\n",
        "    return_layers = {\"features.3\": \"0\", \"features.4\": \"1\", \"features.5\": \"2\", \"features.6\": \"3\"}\n",
        "    body = create_feature_extractor(backbone_model, return_layers)\n",
        "\n",
        "    fpn = FeaturePyramidNetwork(in_channels_list=in_channels_list, out_channels=256)\n",
        "\n",
        "    backbone = torch.nn.Sequential(OrderedDict([(\"body\", body), (\"fpn\", fpn)]))\n",
        "    backbone.out_channels = 256\n",
        "\n",
        "    # Konfigurasi yang benar ada di sini\n",
        "    anchor_generator = AnchorGenerator(\n",
        "        sizes=((32,), (64,), (128,), (256,)), # Changed to 4 size tuples\n",
        "        aspect_ratios=((0.5, 1.0, 2.0),) * 4 # Changed to 4 aspect ratio tuples\n",
        "    )\n",
        "\n",
        "    model = FasterRCNN(backbone, num_classes=num_classes, rpn_anchor_generator=anchor_generator, min_size=min_size, max_size=max_size)\n",
        "\n",
        "    print(f\"✅ Model Faster R-CNN dengan backbone {variant} berhasil dibuat (dengan AnchorGenerator yang benar).\")\n",
        "    return model"
      ]
    },
    {
      "cell_type": "code",
      "execution_count": null,
      "id": "7b320958",
      "metadata": {
        "colab": {
          "base_uri": "https://localhost:8080/"
        },
        "id": "7b320958",
        "outputId": "ca0308a3-410a-4166-aa91-6740d2e4534d"
      },
      "outputs": [
        {
          "output_type": "stream",
          "name": "stdout",
          "text": [
            "Downloading: \"https://download.pytorch.org/models/efficientnet_b0_rwightman-7f5810bc.pth\" to /root/.cache/torch/hub/checkpoints/efficientnet_b0_rwightman-7f5810bc.pth\n"
          ]
        },
        {
          "output_type": "stream",
          "name": "stderr",
          "text": [
            "100%|██████████| 20.5M/20.5M [00:00<00:00, 148MB/s]\n"
          ]
        },
        {
          "output_type": "stream",
          "name": "stdout",
          "text": [
            "✅ Model Faster R-CNN dengan backbone efficientnet_b0 berhasil dibuat (dengan AnchorGenerator yang benar).\n"
          ]
        }
      ],
      "source": [
        "# Di dalam sel pelatihan Anda\n",
        "# Ganti baris inisialisasi model menjadi seperti ini:\n",
        "model = create_model(NUM_CLASSES, variant='efficientnet_b0', min_size=RESIZE_TO, max_size=RESIZE_TO).to(DEVICE)"
      ]
    },
    {
      "cell_type": "code",
      "execution_count": null,
      "id": "247bf84c",
      "metadata": {
        "colab": {
          "base_uri": "https://localhost:8080/",
          "height": 660,
          "referenced_widgets": [
            "f7e0b74efa9141db9a81b4c773241a7d",
            "7272561fd1f045b78a0cfa22b5a151c9",
            "51c4efc5f88e4375b7ad9d0664678798",
            "7e29715e298f483f88d253ce36be6b05",
            "9d8bf0d7719f483a80e9113076e602da",
            "328cb0e65a9049f88426d93cfcd0d5dd",
            "36353a076a5242b1af268a27e2d3b273",
            "c951636567b74e998f31a27097e4e6e0",
            "15257e00d0c94064843df5c184065036",
            "6e2f975759c147318f6d72ffb13f77fd",
            "3cc61267fff84d35b41210fafe99bab5"
          ]
        },
        "id": "247bf84c",
        "outputId": "1f9fb471-3c17-4eda-dc72-30a0bbd9b821"
      },
      "outputs": [
        {
          "output_type": "stream",
          "name": "stdout",
          "text": [
            "MODE: Mencari Learning Rate Optimal...\n",
            "✅ Model Faster R-CNN dengan backbone efficientnet_b0 berhasil dibuat (dengan AnchorGenerator yang benar).\n",
            "Menjalankan LR Range Test... Ini mungkin memakan beberapa menit.\n"
          ]
        },
        {
          "output_type": "display_data",
          "data": {
            "text/plain": [
              "  0%|          | 0/200 [00:00<?, ?it/s]"
            ],
            "application/vnd.jupyter.widget-view+json": {
              "version_major": 2,
              "version_minor": 0,
              "model_id": "f7e0b74efa9141db9a81b4c773241a7d"
            }
          },
          "metadata": {}
        },
        {
          "output_type": "stream",
          "name": "stdout",
          "text": [
            "Stopping early, the loss has diverged\n",
            "Learning rate search finished. See the graph with {finder_name}.plot()\n",
            "LR suggestion: steepest gradient\n",
            "Suggested LR: 1.70E-06\n"
          ]
        },
        {
          "output_type": "display_data",
          "data": {
            "text/plain": [
              "<Figure size 640x480 with 1 Axes>"
            ],
            "image/png": "[encoded data removed]"
          },
          "metadata": {}
        },
        {
          "output_type": "stream",
          "name": "stdout",
          "text": [
            "\n",
            "✅ Perhitungan Selesai.\n",
            "Learning Rate yang disarankan (titik penurunan loss paling tajam) adalah: 0.00000170\n"
          ]
        }
      ],
      "source": [
        "# --- Ganti seluruh blok 'if FIND_LEARNING_RATE:' di Cell 7 dengan ini ---\n",
        "\n",
        "FIND_LEARNING_RATE = True # Ganti menjadi False setelah menemukan LR yang bagus\n",
        "\n",
        "if FIND_LEARNING_RATE:\n",
        "    # 1. Impor dan instal pustaka yang dibutuhkan\n",
        "    !pip install torch-lr-finder -q\n",
        "    import torch\n",
        "    from torch_lr_finder import LRFinder\n",
        "    import numpy as np\n",
        "\n",
        "    print(\"MODE: Mencari Learning Rate Optimal...\")\n",
        "\n",
        "    # 2. Buat kelas LRFinder khusus untuk model deteksi\n",
        "    # (Kode ini sudah benar, tidak perlu diubah)\n",
        "    class DetectionLRFinder(LRFinder):\n",
        "        def _train_batch(self, train_iter, accumulation_steps, non_blocking_transfer):\n",
        "            self.model.train()\n",
        "            total_loss = None\n",
        "            self.optimizer.zero_grad()\n",
        "            for i in range(accumulation_steps):\n",
        "                try:\n",
        "                    images, targets = next(train_iter)\n",
        "                except StopIteration:\n",
        "                    train_iter = iter(self.train_loader)\n",
        "                    images, targets = next(train_iter)\n",
        "                images = [img.to(self.device) for img in images]\n",
        "                targets = [{k: v.to(self.device) for k, v in t.items()} for t in targets]\n",
        "                loss_dict = self.model(images, targets)\n",
        "                loss = sum(l for l in loss_dict.values())\n",
        "                loss /= accumulation_steps\n",
        "                loss.backward()\n",
        "                if total_loss is None:\n",
        "                    total_loss = loss\n",
        "                else:\n",
        "                    total_loss += loss\n",
        "            self.optimizer.step()\n",
        "            return total_loss.item()\n",
        "\n",
        "    # 3. Inisialisasi model dan optimizer\n",
        "    model_finder = create_model(NUM_CLASSES).to(DEVICE)    # <-- PERBAIKAN 2: Mengubah num_classes menjadi NUM_CLASSES\n",
        "    optimizer_finder = torch.optim.RMSprop(model_finder.parameters(), lr=1e-7, weight_decay=0.0005)\n",
        "\n",
        "    # 4. Inisialisasi DataLoader\n",
        "    train_dataset_finder = CustomDataset(TRAIN_IMG, TRAIN_ANNOT, RESIZE_TO, RESIZE_TO, CLASSES, get_train_transform())\n",
        "    train_loader_finder = DataLoader(train_dataset_finder, batch_size=BATCH_SIZE, shuffle=True, num_workers=NUM_WORKERS, collate_fn=collate_fn)\n",
        "\n",
        "    # 5. Jalankan LR Finder\n",
        "    lr_finder = DetectionLRFinder(model_finder, optimizer_finder, criterion=None, device=DEVICE)\n",
        "    print(\"Menjalankan LR Range Test... Ini mungkin memakan beberapa menit.\")\n",
        "    lr_finder.range_test(train_loader_finder, end_lr=1, num_iter=200, step_mode=\"exp\")\n",
        "\n",
        "    # 6. Plot hasilnya\n",
        "    lr_finder.plot()\n",
        "\n",
        "    # 7. Hitung dan cetak LR yang disarankan\n",
        "    lrs = lr_finder.history['lr']\n",
        "    losses = lr_finder.history['loss']\n",
        "    grads = np.gradient(losses)\n",
        "    min_grad_idx = np.argmin(grads)\n",
        "    suggested_lr = lrs[min_grad_idx]\n",
        "\n",
        "    print(f\"\\n✅ Perhitungan Selesai.\")\n",
        "    print(f\"Learning Rate yang disarankan (titik penurunan loss paling tajam) adalah: {suggested_lr:.8f}\")\n",
        "\n",
        "    lr_finder.reset()"
      ]
    },
    {
      "cell_type": "code",
      "execution_count": null,
      "id": "003f77d5",
      "metadata": {
        "colab": {
          "base_uri": "https://localhost:8080/"
        },
        "id": "003f77d5",
        "outputId": "58dec399-795b-48f3-af25-4d8a7d32f74b"
      },
      "outputs": [
        {
          "output_type": "stream",
          "name": "stdout",
          "text": [
            "Data latih: 1295 | Data validasi: 325\n",
            "\n"
          ]
        },
        {
          "output_type": "stream",
          "name": "stderr",
          "text": [
            "/usr/local/lib/python3.12/dist-packages/albumentations/core/composition.py:331: UserWarning: Got processor for bboxes, but no transform to process it.\n",
            "  self._set_keys()\n"
          ]
        },
        {
          "output_type": "stream",
          "name": "stdout",
          "text": [
            "✅ Model Faster R-CNN dengan backbone efficientnet_b0 berhasil dibuat (dengan AnchorGenerator yang benar).\n",
            "\n",
            "--- Epoch 1/20 ---\n"
          ]
        },
        {
          "output_type": "stream",
          "name": "stderr",
          "text": [
            "Loss: 0.4402: 100%|██████████| 162/162 [00:32<00:00,  4.97it/s]\n"
          ]
        },
        {
          "output_type": "stream",
          "name": "stdout",
          "text": [
            "Loss Pelatihan: 0.6320\n"
          ]
        },
        {
          "output_type": "stream",
          "name": "stderr",
          "text": [
            "Validating: 100%|██████████| 41/41 [00:04<00:00,  9.71it/s]\n"
          ]
        },
        {
          "output_type": "stream",
          "name": "stdout",
          "text": [
            "mAP@0.5: 0.6100, mAP@0.5:0.95: 0.2863, Precision: 0.8367, F1: 0.8127\n",
            "\n",
            "Valid mAP meningkat. Menyimpan model ke outputs/best_model_mAP_0.2863.pth\n",
            "\n",
            "--- Epoch 2/20 ---\n"
          ]
        },
        {
          "output_type": "stream",
          "name": "stderr",
          "text": [
            "Loss: 0.3347: 100%|██████████| 162/162 [00:32<00:00,  5.06it/s]\n"
          ]
        },
        {
          "output_type": "stream",
          "name": "stdout",
          "text": [
            "Loss Pelatihan: 0.3760\n"
          ]
        },
        {
          "output_type": "stream",
          "name": "stderr",
          "text": [
            "Validating: 100%|██████████| 41/41 [00:04<00:00,  9.92it/s]\n"
          ]
        },
        {
          "output_type": "stream",
          "name": "stdout",
          "text": [
            "mAP@0.5: 0.7996, mAP@0.5:0.95: 0.4198, Precision: 0.7839, F1: 0.7238\n",
            "\n",
            "Valid mAP meningkat. Menyimpan model ke outputs/best_model_mAP_0.4198.pth\n",
            "\n",
            "--- Epoch 3/20 ---\n"
          ]
        },
        {
          "output_type": "stream",
          "name": "stderr",
          "text": [
            "Loss: 0.2164: 100%|██████████| 162/162 [00:31<00:00,  5.10it/s]\n"
          ]
        },
        {
          "output_type": "stream",
          "name": "stdout",
          "text": [
            "Loss Pelatihan: 0.2706\n"
          ]
        },
        {
          "output_type": "stream",
          "name": "stderr",
          "text": [
            "Validating: 100%|██████████| 41/41 [00:04<00:00,  9.91it/s]\n"
          ]
        },
        {
          "output_type": "stream",
          "name": "stdout",
          "text": [
            "mAP@0.5: 0.8700, mAP@0.5:0.95: 0.5246, Precision: 0.6385, F1: 0.5694\n",
            "\n",
            "Valid mAP meningkat. Menyimpan model ke outputs/best_model_mAP_0.5246.pth\n",
            "\n",
            "--- Epoch 4/20 ---\n"
          ]
        },
        {
          "output_type": "stream",
          "name": "stderr",
          "text": [
            "Loss: 0.1888: 100%|██████████| 162/162 [00:31<00:00,  5.07it/s]\n"
          ]
        },
        {
          "output_type": "stream",
          "name": "stdout",
          "text": [
            "Loss Pelatihan: 0.2125\n"
          ]
        },
        {
          "output_type": "stream",
          "name": "stderr",
          "text": [
            "Validating: 100%|██████████| 41/41 [00:04<00:00, 10.07it/s]\n"
          ]
        },
        {
          "output_type": "stream",
          "name": "stdout",
          "text": [
            "mAP@0.5: 0.8964, mAP@0.5:0.95: 0.5749, Precision: 0.6847, F1: 0.6433\n",
            "\n",
            "Valid mAP meningkat. Menyimpan model ke outputs/best_model_mAP_0.5749.pth\n",
            "\n",
            "--- Epoch 5/20 ---\n"
          ]
        },
        {
          "output_type": "stream",
          "name": "stderr",
          "text": [
            "Loss: 0.1508: 100%|██████████| 162/162 [00:31<00:00,  5.12it/s]\n"
          ]
        },
        {
          "output_type": "stream",
          "name": "stdout",
          "text": [
            "Loss Pelatihan: 0.1808\n"
          ]
        },
        {
          "output_type": "stream",
          "name": "stderr",
          "text": [
            "Validating: 100%|██████████| 41/41 [00:04<00:00, 10.06it/s]\n"
          ]
        },
        {
          "output_type": "stream",
          "name": "stdout",
          "text": [
            "mAP@0.5: 0.9191, mAP@0.5:0.95: 0.6073, Precision: 0.4075, F1: 0.3481\n",
            "\n",
            "Valid mAP meningkat. Menyimpan model ke outputs/best_model_mAP_0.6073.pth\n",
            "\n",
            "--- Epoch 6/20 ---\n"
          ]
        },
        {
          "output_type": "stream",
          "name": "stderr",
          "text": [
            "Loss: 0.1615: 100%|██████████| 162/162 [00:31<00:00,  5.13it/s]\n"
          ]
        },
        {
          "output_type": "stream",
          "name": "stdout",
          "text": [
            "Loss Pelatihan: 0.1617\n"
          ]
        },
        {
          "output_type": "stream",
          "name": "stderr",
          "text": [
            "Validating: 100%|██████████| 41/41 [00:04<00:00, 10.06it/s]\n"
          ]
        },
        {
          "output_type": "stream",
          "name": "stdout",
          "text": [
            "mAP@0.5: 0.9255, mAP@0.5:0.95: 0.6260, Precision: 0.6688, F1: 0.6165\n",
            "\n",
            "Valid mAP meningkat. Menyimpan model ke outputs/best_model_mAP_0.6260.pth\n",
            "\n",
            "--- Epoch 7/20 ---\n"
          ]
        },
        {
          "output_type": "stream",
          "name": "stderr",
          "text": [
            "Loss: 0.1613: 100%|██████████| 162/162 [00:31<00:00,  5.14it/s]\n"
          ]
        },
        {
          "output_type": "stream",
          "name": "stdout",
          "text": [
            "Loss Pelatihan: 0.1476\n"
          ]
        },
        {
          "output_type": "stream",
          "name": "stderr",
          "text": [
            "Validating: 100%|██████████| 41/41 [00:04<00:00, 10.16it/s]\n"
          ]
        },
        {
          "output_type": "stream",
          "name": "stdout",
          "text": [
            "mAP@0.5: 0.9361, mAP@0.5:0.95: 0.6630, Precision: 0.7384, F1: 0.7259\n",
            "\n",
            "Valid mAP meningkat. Menyimpan model ke outputs/best_model_mAP_0.6630.pth\n",
            "\n",
            "--- Epoch 8/20 ---\n"
          ]
        },
        {
          "output_type": "stream",
          "name": "stderr",
          "text": [
            "Loss: 0.0896: 100%|██████████| 162/162 [00:31<00:00,  5.11it/s]\n"
          ]
        },
        {
          "output_type": "stream",
          "name": "stdout",
          "text": [
            "Loss Pelatihan: 0.1390\n"
          ]
        },
        {
          "output_type": "stream",
          "name": "stderr",
          "text": [
            "Validating: 100%|██████████| 41/41 [00:04<00:00, 10.05it/s]\n"
          ]
        },
        {
          "output_type": "stream",
          "name": "stdout",
          "text": [
            "mAP@0.5: 0.9384, mAP@0.5:0.95: 0.6766, Precision: 0.6537, F1: 0.6189\n",
            "\n",
            "Valid mAP meningkat. Menyimpan model ke outputs/best_model_mAP_0.6766.pth\n",
            "\n",
            "--- Epoch 9/20 ---\n"
          ]
        },
        {
          "output_type": "stream",
          "name": "stderr",
          "text": [
            "Loss: 0.1274: 100%|██████████| 162/162 [00:31<00:00,  5.08it/s]\n"
          ]
        },
        {
          "output_type": "stream",
          "name": "stdout",
          "text": [
            "Loss Pelatihan: 0.1310\n"
          ]
        },
        {
          "output_type": "stream",
          "name": "stderr",
          "text": [
            "Validating: 100%|██████████| 41/41 [00:04<00:00, 10.07it/s]\n"
          ]
        },
        {
          "output_type": "stream",
          "name": "stdout",
          "text": [
            "mAP@0.5: 0.9491, mAP@0.5:0.95: 0.6754, Precision: 0.6925, F1: 0.6393\n",
            "\n",
            "--- Epoch 10/20 ---\n"
          ]
        },
        {
          "output_type": "stream",
          "name": "stderr",
          "text": [
            "Loss: 0.1447: 100%|██████████| 162/162 [00:31<00:00,  5.12it/s]\n"
          ]
        },
        {
          "output_type": "stream",
          "name": "stdout",
          "text": [
            "Loss Pelatihan: 0.1233\n"
          ]
        },
        {
          "output_type": "stream",
          "name": "stderr",
          "text": [
            "Validating: 100%|██████████| 41/41 [00:04<00:00,  9.91it/s]\n"
          ]
        },
        {
          "output_type": "stream",
          "name": "stdout",
          "text": [
            "mAP@0.5: 0.9612, mAP@0.5:0.95: 0.6930, Precision: 0.6680, F1: 0.6367\n",
            "\n",
            "Valid mAP meningkat. Menyimpan model ke outputs/best_model_mAP_0.6930.pth\n",
            "\n",
            "--- Epoch 11/20 ---\n"
          ]
        },
        {
          "output_type": "stream",
          "name": "stderr",
          "text": [
            "Loss: 0.0986: 100%|██████████| 162/162 [00:31<00:00,  5.11it/s]\n"
          ]
        },
        {
          "output_type": "stream",
          "name": "stdout",
          "text": [
            "Loss Pelatihan: 0.1168\n"
          ]
        },
        {
          "output_type": "stream",
          "name": "stderr",
          "text": [
            "Validating: 100%|██████████| 41/41 [00:04<00:00, 10.15it/s]\n"
          ]
        },
        {
          "output_type": "stream",
          "name": "stdout",
          "text": [
            "mAP@0.5: 0.9813, mAP@0.5:0.95: 0.7105, Precision: 0.7395, F1: 0.7036\n",
            "\n",
            "Valid mAP meningkat. Menyimpan model ke outputs/best_model_mAP_0.7105.pth\n",
            "\n",
            "--- Epoch 12/20 ---\n"
          ]
        },
        {
          "output_type": "stream",
          "name": "stderr",
          "text": [
            "Loss: 0.1267: 100%|██████████| 162/162 [00:31<00:00,  5.14it/s]\n"
          ]
        },
        {
          "output_type": "stream",
          "name": "stdout",
          "text": [
            "Loss Pelatihan: 0.1114\n"
          ]
        },
        {
          "output_type": "stream",
          "name": "stderr",
          "text": [
            "Validating: 100%|██████████| 41/41 [00:04<00:00, 10.04it/s]\n"
          ]
        },
        {
          "output_type": "stream",
          "name": "stdout",
          "text": [
            "mAP@0.5: 0.9702, mAP@0.5:0.95: 0.7124, Precision: 0.6772, F1: 0.6490\n",
            "\n",
            "Valid mAP meningkat. Menyimpan model ke outputs/best_model_mAP_0.7124.pth\n",
            "\n",
            "--- Epoch 13/20 ---\n"
          ]
        },
        {
          "output_type": "stream",
          "name": "stderr",
          "text": [
            "Loss: 0.0973: 100%|██████████| 162/162 [00:31<00:00,  5.13it/s]\n"
          ]
        },
        {
          "output_type": "stream",
          "name": "stdout",
          "text": [
            "Loss Pelatihan: 0.1059\n"
          ]
        },
        {
          "output_type": "stream",
          "name": "stderr",
          "text": [
            "Validating: 100%|██████████| 41/41 [00:04<00:00, 10.14it/s]\n"
          ]
        },
        {
          "output_type": "stream",
          "name": "stdout",
          "text": [
            "mAP@0.5: 0.9852, mAP@0.5:0.95: 0.7366, Precision: 0.6933, F1: 0.6439\n",
            "\n",
            "Valid mAP meningkat. Menyimpan model ke outputs/best_model_mAP_0.7366.pth\n",
            "\n",
            "--- Epoch 14/20 ---\n"
          ]
        },
        {
          "output_type": "stream",
          "name": "stderr",
          "text": [
            "Loss: 0.0778: 100%|██████████| 162/162 [00:31<00:00,  5.12it/s]\n"
          ]
        },
        {
          "output_type": "stream",
          "name": "stdout",
          "text": [
            "Loss Pelatihan: 0.1030\n"
          ]
        },
        {
          "output_type": "stream",
          "name": "stderr",
          "text": [
            "Validating: 100%|██████████| 41/41 [00:04<00:00, 10.05it/s]\n"
          ]
        },
        {
          "output_type": "stream",
          "name": "stdout",
          "text": [
            "mAP@0.5: 0.9641, mAP@0.5:0.95: 0.7290, Precision: 0.7592, F1: 0.7367\n",
            "\n",
            "--- Epoch 15/20 ---\n"
          ]
        },
        {
          "output_type": "stream",
          "name": "stderr",
          "text": [
            "Loss: 0.0821: 100%|██████████| 162/162 [00:31<00:00,  5.13it/s]\n"
          ]
        },
        {
          "output_type": "stream",
          "name": "stdout",
          "text": [
            "Loss Pelatihan: 0.0994\n"
          ]
        },
        {
          "output_type": "stream",
          "name": "stderr",
          "text": [
            "Validating: 100%|██████████| 41/41 [00:04<00:00, 10.09it/s]\n"
          ]
        },
        {
          "output_type": "stream",
          "name": "stdout",
          "text": [
            "mAP@0.5: 0.9916, mAP@0.5:0.95: 0.7537, Precision: 0.7875, F1: 0.7691\n",
            "\n",
            "Valid mAP meningkat. Menyimpan model ke outputs/best_model_mAP_0.7537.pth\n",
            "\n",
            "--- Epoch 16/20 ---\n"
          ]
        },
        {
          "output_type": "stream",
          "name": "stderr",
          "text": [
            "Loss: 0.0933: 100%|██████████| 162/162 [00:31<00:00,  5.12it/s]\n"
          ]
        },
        {
          "output_type": "stream",
          "name": "stdout",
          "text": [
            "Loss Pelatihan: 0.0967\n"
          ]
        },
        {
          "output_type": "stream",
          "name": "stderr",
          "text": [
            "Validating: 100%|██████████| 41/41 [00:04<00:00, 10.06it/s]\n"
          ]
        },
        {
          "output_type": "stream",
          "name": "stdout",
          "text": [
            "mAP@0.5: 0.9813, mAP@0.5:0.95: 0.7428, Precision: 0.7845, F1: 0.7685\n",
            "\n",
            "--- Epoch 17/20 ---\n"
          ]
        },
        {
          "output_type": "stream",
          "name": "stderr",
          "text": [
            "Loss: 0.0979: 100%|██████████| 162/162 [00:31<00:00,  5.13it/s]\n"
          ]
        },
        {
          "output_type": "stream",
          "name": "stdout",
          "text": [
            "Loss Pelatihan: 0.0945\n"
          ]
        },
        {
          "output_type": "stream",
          "name": "stderr",
          "text": [
            "Validating: 100%|██████████| 41/41 [00:04<00:00, 10.12it/s]\n"
          ]
        },
        {
          "output_type": "stream",
          "name": "stdout",
          "text": [
            "mAP@0.5: 0.9883, mAP@0.5:0.95: 0.7579, Precision: 0.8152, F1: 0.7978\n",
            "\n",
            "Valid mAP meningkat. Menyimpan model ke outputs/best_model_mAP_0.7579.pth\n",
            "\n",
            "--- Epoch 18/20 ---\n"
          ]
        },
        {
          "output_type": "stream",
          "name": "stderr",
          "text": [
            "Loss: 0.0992: 100%|██████████| 162/162 [00:31<00:00,  5.10it/s]\n"
          ]
        },
        {
          "output_type": "stream",
          "name": "stdout",
          "text": [
            "Loss Pelatihan: 0.0908\n"
          ]
        },
        {
          "output_type": "stream",
          "name": "stderr",
          "text": [
            "Validating: 100%|██████████| 41/41 [00:04<00:00, 10.09it/s]\n"
          ]
        },
        {
          "output_type": "stream",
          "name": "stdout",
          "text": [
            "mAP@0.5: 0.9898, mAP@0.5:0.95: 0.7649, Precision: 0.7660, F1: 0.7344\n",
            "\n",
            "Valid mAP meningkat. Menyimpan model ke outputs/best_model_mAP_0.7649.pth\n",
            "\n",
            "--- Epoch 19/20 ---\n"
          ]
        },
        {
          "output_type": "stream",
          "name": "stderr",
          "text": [
            "Loss: 0.0888: 100%|██████████| 162/162 [00:31<00:00,  5.10it/s]\n"
          ]
        },
        {
          "output_type": "stream",
          "name": "stdout",
          "text": [
            "Loss Pelatihan: 0.0878\n"
          ]
        },
        {
          "output_type": "stream",
          "name": "stderr",
          "text": [
            "Validating: 100%|██████████| 41/41 [00:04<00:00,  9.96it/s]\n"
          ]
        },
        {
          "output_type": "stream",
          "name": "stdout",
          "text": [
            "mAP@0.5: 0.9844, mAP@0.5:0.95: 0.7663, Precision: 0.8335, F1: 0.8220\n",
            "\n",
            "Valid mAP meningkat. Menyimpan model ke outputs/best_model_mAP_0.7663.pth\n",
            "\n",
            "--- Epoch 20/20 ---\n"
          ]
        },
        {
          "output_type": "stream",
          "name": "stderr",
          "text": [
            "Loss: 0.0802: 100%|██████████| 162/162 [00:31<00:00,  5.09it/s]\n"
          ]
        },
        {
          "output_type": "stream",
          "name": "stdout",
          "text": [
            "Loss Pelatihan: 0.0863\n"
          ]
        },
        {
          "output_type": "stream",
          "name": "stderr",
          "text": [
            "Validating: 100%|██████████| 41/41 [00:04<00:00, 10.01it/s]\n"
          ]
        },
        {
          "output_type": "stream",
          "name": "stdout",
          "text": [
            "mAP@0.5: 0.9971, mAP@0.5:0.95: 0.7800, Precision: 0.8132, F1: 0.7981\n",
            "\n",
            "Valid mAP meningkat. Menyimpan model ke outputs/best_model_mAP_0.7800.pth\n",
            "\n",
            "✅ Pelatihan Selesai!\n"
          ]
        }
      ],
      "source": [
        "# --- Cell 7: train.py ---\n",
        "\n",
        "# Inisialisasi datasets dan loaders\n",
        "train_dataset = CustomDataset(TRAIN_IMG, TRAIN_ANNOT, RESIZE_TO, RESIZE_TO, CLASSES, get_train_transform())\n",
        "valid_dataset = CustomDataset(VALID_IMG, VALID_ANNOT, RESIZE_TO, RESIZE_TO, CLASSES, get_valid_transform())\n",
        "train_loader = DataLoader(train_dataset, batch_size=BATCH_SIZE, shuffle=True, num_workers=NUM_WORKERS, collate_fn=collate_fn)\n",
        "valid_loader = DataLoader(valid_dataset, batch_size=BATCH_SIZE, shuffle=False, num_workers=NUM_WORKERS, collate_fn=collate_fn)\n",
        "print(f\"Data latih: {len(train_dataset)} | Data validasi: {len(valid_dataset)}\\n\")\n",
        "\n",
        "# Inisialisasi model dan optimizer\n",
        "model = create_model(NUM_CLASSES, min_size=RESIZE_TO, max_size=RESIZE_TO).to(DEVICE)\n",
        "optimizer = torch.optim.RMSprop(model.parameters(), lr=suggested_lr, alpha=0.99, weight_decay=0.0005)\n",
        "\n",
        "# Inisialisasi pelacak metrik\n",
        "train_loss_hist = Averager()\n",
        "map_metric = MeanAveragePrecision()\n",
        "save_best_model = SaveBestModel()\n",
        "metrics_data, map_50_list, map_95_list = [], [], []\n",
        "\n",
        "# Loop Pelatihan\n",
        "for epoch in range(NUM_EPOCHS):\n",
        "    print(f\"\\n--- Epoch {epoch + 1}/{NUM_EPOCHS} ---\")\n",
        "    train_loss_hist.reset(); model.train()\n",
        "    prog_bar = tqdm(train_loader, total=len(train_loader))\n",
        "\n",
        "    # Fase Training\n",
        "    for images, targets in prog_bar:\n",
        "        images = [img.to(DEVICE) for img in images]\n",
        "        targets = [{k: v.to(DEVICE) for k, v in t.items()} for t in targets]\n",
        "        optimizer.zero_grad()\n",
        "        loss_dict = model(images, targets)\n",
        "        losses = sum(loss for loss in loss_dict.values())\n",
        "        losses.backward(); optimizer.step()\n",
        "        train_loss_hist.send(losses.item())\n",
        "        prog_bar.set_description(f\"Loss: {losses.item():.4f}\")\n",
        "    print(f\"Loss Pelatihan: {train_loss_hist.value:.4f}\")\n",
        "\n",
        "    # Fase Validasi\n",
        "    model.eval(); map_metric.reset()\n",
        "    all_true_labels, all_pred_labels = [], []\n",
        "    with torch.no_grad():\n",
        "        for images, targets in tqdm(valid_loader, desc=\"Validating\"):\n",
        "            images = [img.to(DEVICE) for img in images]; outputs = model(images)\n",
        "            for i in range(len(images)):\n",
        "                true_labels, true_boxes = targets[i][\"labels\"].cpu(), targets[i][\"boxes\"].cpu()\n",
        "                pred_scores, pred_labels, pred_boxes = outputs[i][\"scores\"].cpu(), outputs[i][\"labels\"].cpu(), outputs[i][\"boxes\"].cpu()\n",
        "                mask = pred_scores > 0.5\n",
        "                map_metric.update([{\"boxes\": pred_boxes[mask], \"scores\": pred_scores[mask], \"labels\": pred_labels[mask]}],\n",
        "                                  [{\"boxes\": true_boxes, \"labels\": true_labels}])\n",
        "                all_true_labels.extend(true_labels.numpy())\n",
        "                all_pred_labels.extend(pred_labels[mask].numpy())\n",
        "\n",
        "    # Kalkulasi Metrik\n",
        "    map_result = map_metric.compute()\n",
        "    min_len = min(len(all_true_labels), len(all_pred_labels))\n",
        "    precision, recall, f1, _ = precision_recall_fscore_support(all_true_labels[:min_len], all_pred_labels[:min_len], average=\"weighted\", zero_division=0)\n",
        "    print(f\"mAP@0.5: {map_result['map_50']:.4f}, mAP@0.5:0.95: {map_result['map']:.4f}, Precision: {precision:.4f}, F1: {f1:.4f}\")\n",
        "\n",
        "    # Simpan hasil\n",
        "    map_50_list.append(map_result['map_50'].item()); map_95_list.append(map_result['map'].item())\n",
        "    metrics_data.append({\"Epoch\": epoch+1, \"Train Loss\": train_loss_hist.value, \"mAP@0.5\": map_result['map_50'].item(), \"mAP@0.5:0.95\": map_result['map'].item(), \"Precision\": precision, \"Recall\": recall, \"F1-Score\": f1})\n",
        "    train_losses = [e[\"Train Loss\"] for e in metrics_data]\n",
        "    save_loss_plot(OUT_DIR, train_losses); save_mAP(OUT_DIR, map_50_list, map_95_list)\n",
        "    save_best_model(model, map_result['map'].item(), epoch, OUT_DIR)\n",
        "\n",
        "# Simpan metrik ke Excel\n",
        "pd.DataFrame(metrics_data).to_excel(f\"{OUT_DIR}/all_metrics.xlsx\", index=False)\n",
        "print(\"\\n✅ Pelatihan Selesai!\")"
      ]
    },
    {
      "cell_type": "code",
      "source": [
        "# --- SEL BARU: EVALUASI PADA HOLD-OUT TEST SET ---\n",
        "\n",
        "# 1. Tentukan path ke test set Anda\n",
        "#    (Anda mungkin perlu membuat folder ini dari data asli Anda)\n",
        "TEST_IMG_DIR = os.path.join(OUTPUT_DIR, \"val\", \"Image\")\n",
        "TEST_ANNOT_DIR = os.path.join(OUTPUT_DIR, \"val\", \"Annotation\")\n",
        "\n",
        "# Pastikan folder ada\n",
        "if not os.path.exists(TEST_IMG_DIR):\n",
        "    print(f\"❌ Peringatan: Direktori Test Set '{TEST_IMG_DIR}' tidak ditemukan. Lewati evaluasi.\")\n",
        "else:\n",
        "    print(\"Memulai evaluasi pada Test Set...\")\n",
        "\n",
        "    # 2. Muat model terbaik yang sudah dilatih\n",
        "    # Temukan path model terbaik secara otomatis dari folder outputs\n",
        "    try:\n",
        "        best_model_path = sorted(glob.glob(f\"{OUT_DIR}/best_model_*.pth\"))[-1]\n",
        "        print(f\"Memuat model dari: {best_model_path}\")\n",
        "    except IndexError:\n",
        "        print(\"❌ Tidak dapat menemukan model 'best_model.pth'. Pastikan pelatihan sudah selesai.\")\n",
        "        best_model_path = None\n",
        "\n",
        "    if best_model_path:\n",
        "        model_test = create_model(NUM_CLASSES).to(DEVICE)\n",
        "        checkpoint = torch.load(best_model_path, map_location=DEVICE)\n",
        "        model_test.load_state_dict(checkpoint['model_state_dict'])\n",
        "        model_test.eval() # Set model ke mode evaluasi\n",
        "\n",
        "        # 3. Buat DataLoader untuk test set\n",
        "        test_dataset = CustomDataset(TEST_IMG_DIR, TEST_ANNOT_DIR, RESIZE_TO, RESIZE_TO, CLASSES, get_valid_transform())\n",
        "        test_loader = DataLoader(test_dataset, batch_size=BATCH_SIZE, shuffle=False, num_workers=NUM_WORKERS, collate_fn=collate_fn)\n",
        "\n",
        "        # 4. Inisialisasi metrik dan jalankan evaluasi\n",
        "        map_metric_test = MeanAveragePrecision()\n",
        "        with torch.no_grad():\n",
        "            for images, targets in tqdm(test_loader, desc=\"Testing\"):\n",
        "                images = [img.to(DEVICE) for img in images]\n",
        "                outputs = model_test(images)\n",
        "\n",
        "                # Pindahkan output ke CPU untuk evaluasi\n",
        "                targets_cpu = [{k: v.cpu() for k, v in t.items()} for t in targets]\n",
        "                outputs_cpu = [{k: v.cpu() for k, v in t.items()} for t in outputs]\n",
        "\n",
        "                map_metric_test.update(outputs_cpu, targets_cpu)\n",
        "\n",
        "        # 5. Hitung dan tampilkan hasil akhir\n",
        "        test_results = map_metric_test.compute()\n",
        "        print(\"\\n--- HASIL PADA TEST SET ---\")\n",
        "        print(f\"mAP@0.5: {test_results['map_50']:.4f}\")\n",
        "        print(f\"mAP@0.5:0.95: {test_results['map']:.4f}\")\n",
        "        print(f\"mAP (Large Objects): {test_results['map_large']:.4f}\")"
      ],
      "metadata": {
        "colab": {
          "base_uri": "https://localhost:8080/"
        },
        "id": "R0-jDB1P3SX1",
        "outputId": "c6bb0930-53bf-4dca-ed0e-36ba57ce13dc"
      },
      "id": "R0-jDB1P3SX1",
      "execution_count": null,
      "outputs": [
        {
          "output_type": "stream",
          "name": "stdout",
          "text": [
            "Memulai evaluasi pada Test Set...\n",
            "Memuat model dari: outputs/best_model_mAP_0.7800.pth\n",
            "✅ Model Faster R-CNN dengan backbone efficientnet_b0 berhasil dibuat (dengan AnchorGenerator yang benar).\n"
          ]
        },
        {
          "output_type": "stream",
          "name": "stderr",
          "text": [
            "/usr/local/lib/python3.12/dist-packages/albumentations/core/composition.py:331: UserWarning: Got processor for bboxes, but no transform to process it.\n",
            "  self._set_keys()\n",
            "Testing: 100%|██████████| 41/41 [00:04<00:00,  9.93it/s]\n"
          ]
        },
        {
          "output_type": "stream",
          "name": "stdout",
          "text": [
            "\n",
            "--- HASIL PADA TEST SET ---\n",
            "mAP@0.5: 0.9971\n",
            "mAP@0.5:0.95: 0.7805\n",
            "mAP (Large Objects): 0.7810\n"
          ]
        }
      ]
    },
    {
      "cell_type": "code",
      "source": [],
      "metadata": {
        "id": "74Jffpu36Uh1"
      },
      "id": "74Jffpu36Uh1",
      "execution_count": null,
      "outputs": []
    }
  ],
  "metadata": {
    "colab": {
      "provenance": [],
      "include_colab_link": true
    },
    "kernelspec": {
      "display_name": "Python 3",
      "name": "python3"
    },
    "language_info": {
      "codemirror_mode": {
        "name": "ipython",
        "version": 3
      },
      "file_extension": ".py",
      "mimetype": "text/x-python",
      "name": "python",
      "nbconvert_exporter": "python",
      "pygments_lexer": "ipython3",
      "version": "3.10.13"
    },
    "widgets": {
      "application/vnd.jupyter.widget-state+json": {
        "f7e0b74efa9141db9a81b4c773241a7d": {
          "model_module": "@jupyter-widgets/controls",
          "model_name": "HBoxModel",
          "model_module_version": "1.5.0",
          "state": {
            "_dom_classes": [],
            "_model_module": "@jupyter-widgets/controls",
            "_model_module_version": "1.5.0",
            "_model_name": "HBoxModel",
            "_view_count": null,
            "_view_module": "@jupyter-widgets/controls",
            "_view_module_version": "1.5.0",
            "_view_name": "HBoxView",
            "box_style": "",
            "children": [
              "IPY_MODEL_7272561fd1f045b78a0cfa22b5a151c9",
              "IPY_MODEL_51c4efc5f88e4375b7ad9d0664678798",
              "IPY_MODEL_7e29715e298f483f88d253ce36be6b05"
            ],
            "layout": "IPY_MODEL_9d8bf0d7719f483a80e9113076e602da"
          }
        },
        "7272561fd1f045b78a0cfa22b5a151c9": {
          "model_module": "@jupyter-widgets/controls",
          "model_name": "HTMLModel",
          "model_module_version": "1.5.0",
          "state": {
            "_dom_classes": [],
            "_model_module": "@jupyter-widgets/controls",
            "_model_module_version": "1.5.0",
            "_model_name": "HTMLModel",
            "_view_count": null,
            "_view_module": "@jupyter-widgets/controls",
            "_view_module_version": "1.5.0",
            "_view_name": "HTMLView",
            "description": "",
            "description_tooltip": null,
            "layout": "IPY_MODEL_328cb0e65a9049f88426d93cfcd0d5dd",
            "placeholder": "​",
            "style": "IPY_MODEL_36353a076a5242b1af268a27e2d3b273",
            "value": " 54%"
          }
        },
        "51c4efc5f88e4375b7ad9d0664678798": {
          "model_module": "@jupyter-widgets/controls",
          "model_name": "FloatProgressModel",
          "model_module_version": "1.5.0",
          "state": {
            "_dom_classes": [],
            "_model_module": "@jupyter-widgets/controls",
            "_model_module_version": "1.5.0",
            "_model_name": "FloatProgressModel",
            "_view_count": null,
            "_view_module": "@jupyter-widgets/controls",
            "_view_module_version": "1.5.0",
            "_view_name": "ProgressView",
            "bar_style": "danger",
            "description": "",
            "description_tooltip": null,
            "layout": "IPY_MODEL_c951636567b74e998f31a27097e4e6e0",
            "max": 200,
            "min": 0,
            "orientation": "horizontal",
            "style": "IPY_MODEL_15257e00d0c94064843df5c184065036",
            "value": 108
          }
        },
        "7e29715e298f483f88d253ce36be6b05": {
          "model_module": "@jupyter-widgets/controls",
          "model_name": "HTMLModel",
          "model_module_version": "1.5.0",
          "state": {
            "_dom_classes": [],
            "_model_module": "@jupyter-widgets/controls",
            "_model_module_version": "1.5.0",
            "_model_name": "HTMLModel",
            "_view_count": null,
            "_view_module": "@jupyter-widgets/controls",
            "_view_module_version": "1.5.0",
            "_view_name": "HTMLView",
            "description": "",
            "description_tooltip": null,
            "layout": "IPY_MODEL_6e2f975759c147318f6d72ffb13f77fd",
            "placeholder": "​",
            "style": "IPY_MODEL_3cc61267fff84d35b41210fafe99bab5",
            "value": " 108/200 [00:24&lt;00:17,  5.20it/s]"
          }
        },
        "9d8bf0d7719f483a80e9113076e602da": {
          "model_module": "@jupyter-widgets/base",
          "model_name": "LayoutModel",
          "model_module_version": "1.2.0",
          "state": {
            "_model_module": "@jupyter-widgets/base",
            "_model_module_version": "1.2.0",
            "_model_name": "LayoutModel",
            "_view_count": null,
            "_view_module": "@jupyter-widgets/base",
            "_view_module_version": "1.2.0",
            "_view_name": "LayoutView",
            "align_content": null,
            "align_items": null,
            "align_self": null,
            "border": null,
            "bottom": null,
            "display": null,
            "flex": null,
            "flex_flow": null,
            "grid_area": null,
            "grid_auto_columns": null,
            "grid_auto_flow": null,
            "grid_auto_rows": null,
            "grid_column": null,
            "grid_gap": null,
            "grid_row": null,
            "grid_template_areas": null,
            "grid_template_columns": null,
            "grid_template_rows": null,
            "height": null,
            "justify_content": null,
            "justify_items": null,
            "left": null,
            "margin": null,
            "max_height": null,
            "max_width": null,
            "min_height": null,
            "min_width": null,
            "object_fit": null,
            "object_position": null,
            "order": null,
            "overflow": null,
            "overflow_x": null,
            "overflow_y": null,
            "padding": null,
            "right": null,
            "top": null,
            "visibility": null,
            "width": null
          }
        },
        "328cb0e65a9049f88426d93cfcd0d5dd": {
          "model_module": "@jupyter-widgets/base",
          "model_name": "LayoutModel",
          "model_module_version": "1.2.0",
          "state": {
            "_model_module": "@jupyter-widgets/base",
            "_model_module_version": "1.2.0",
            "_model_name": "LayoutModel",
            "_view_count": null,
            "_view_module": "@jupyter-widgets/base",
            "_view_module_version": "1.2.0",
            "_view_name": "LayoutView",
            "align_content": null,
            "align_items": null,
            "align_self": null,
            "border": null,
            "bottom": null,
            "display": null,
            "flex": null,
            "flex_flow": null,
            "grid_area": null,
            "grid_auto_columns": null,
            "grid_auto_flow": null,
            "grid_auto_rows": null,
            "grid_column": null,
            "grid_gap": null,
            "grid_row": null,
            "grid_template_areas": null,
            "grid_template_columns": null,
            "grid_template_rows": null,
            "height": null,
            "justify_content": null,
            "justify_items": null,
            "left": null,
            "margin": null,
            "max_height": null,
            "max_width": null,
            "min_height": null,
            "min_width": null,
            "object_fit": null,
            "object_position": null,
            "order": null,
            "overflow": null,
            "overflow_x": null,
            "overflow_y": null,
            "padding": null,
            "right": null,
            "top": null,
            "visibility": null,
            "width": null
          }
        },
        "36353a076a5242b1af268a27e2d3b273": {
          "model_module": "@jupyter-widgets/controls",
          "model_name": "DescriptionStyleModel",
          "model_module_version": "1.5.0",
          "state": {
            "_model_module": "@jupyter-widgets/controls",
            "_model_module_version": "1.5.0",
            "_model_name": "DescriptionStyleModel",
            "_view_count": null,
            "_view_module": "@jupyter-widgets/base",
            "_view_module_version": "1.2.0",
            "_view_name": "StyleView",
            "description_width": ""
          }
        },
        "c951636567b74e998f31a27097e4e6e0": {
          "model_module": "@jupyter-widgets/base",
          "model_name": "LayoutModel",
          "model_module_version": "1.2.0",
          "state": {
            "_model_module": "@jupyter-widgets/base",
            "_model_module_version": "1.2.0",
            "_model_name": "LayoutModel",
            "_view_count": null,
            "_view_module": "@jupyter-widgets/base",
            "_view_module_version": "1.2.0",
            "_view_name": "LayoutView",
            "align_content": null,
            "align_items": null,
            "align_self": null,
            "border": null,
            "bottom": null,
            "display": null,
            "flex": null,
            "flex_flow": null,
            "grid_area": null,
            "grid_auto_columns": null,
            "grid_auto_flow": null,
            "grid_auto_rows": null,
            "grid_column": null,
            "grid_gap": null,
            "grid_row": null,
            "grid_template_areas": null,
            "grid_template_columns": null,
            "grid_template_rows": null,
            "height": null,
            "justify_content": null,
            "justify_items": null,
            "left": null,
            "margin": null,
            "max_height": null,
            "max_width": null,
            "min_height": null,
            "min_width": null,
            "object_fit": null,
            "object_position": null,
            "order": null,
            "overflow": null,
            "overflow_x": null,
            "overflow_y": null,
            "padding": null,
            "right": null,
            "top": null,
            "visibility": null,
            "width": null
          }
        },
        "15257e00d0c94064843df5c184065036": {
          "model_module": "@jupyter-widgets/controls",
          "model_name": "ProgressStyleModel",
          "model_module_version": "1.5.0",
          "state": {
            "_model_module": "@jupyter-widgets/controls",
            "_model_module_version": "1.5.0",
            "_model_name": "ProgressStyleModel",
            "_view_count": null,
            "_view_module": "@jupyter-widgets/base",
            "_view_module_version": "1.2.0",
            "_view_name": "StyleView",
            "bar_color": null,
            "description_width": ""
          }
        },
        "6e2f975759c147318f6d72ffb13f77fd": {
          "model_module": "@jupyter-widgets/base",
          "model_name": "LayoutModel",
          "model_module_version": "1.2.0",
          "state": {
            "_model_module": "@jupyter-widgets/base",
            "_model_module_version": "1.2.0",
            "_model_name": "LayoutModel",
            "_view_count": null,
            "_view_module": "@jupyter-widgets/base",
            "_view_module_version": "1.2.0",
            "_view_name": "LayoutView",
            "align_content": null,
            "align_items": null,
            "align_self": null,
            "border": null,
            "bottom": null,
            "display": null,
            "flex": null,
            "flex_flow": null,
            "grid_area": null,
            "grid_auto_columns": null,
            "grid_auto_flow": null,
            "grid_auto_rows": null,
            "grid_column": null,
            "grid_gap": null,
            "grid_row": null,
            "grid_template_areas": null,
            "grid_template_columns": null,
            "grid_template_rows": null,
            "height": null,
            "justify_content": null,
            "justify_items": null,
            "left": null,
            "margin": null,
            "max_height": null,
            "max_width": null,
            "min_height": null,
            "min_width": null,
            "object_fit": null,
            "object_position": null,
            "order": null,
            "overflow": null,
            "overflow_x": null,
            "overflow_y": null,
            "padding": null,
            "right": null,
            "top": null,
            "visibility": null,
            "width": null
          }
        },
        "3cc61267fff84d35b41210fafe99bab5": {
          "model_module": "@jupyter-widgets/controls",
          "model_name": "DescriptionStyleModel",
          "model_module_version": "1.5.0",
          "state": {
            "_model_module": "@jupyter-widgets/controls",
            "_model_module_version": "1.5.0",
            "_model_name": "DescriptionStyleModel",
            "_view_count": null,
            "_view_module": "@jupyter-widgets/base",
            "_view_module_version": "1.2.0",
            "_view_name": "StyleView",
            "description_width": ""
          }
        }
      }
    }
  },
  "nbformat": 4,
  "nbformat_minor": 5
}